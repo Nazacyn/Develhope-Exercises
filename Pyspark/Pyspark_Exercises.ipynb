{
  "cells": [
    {
      "cell_type": "code",
      "execution_count": 1,
      "metadata": {
        "colab": {
          "base_uri": "https://localhost:8080/"
        },
        "id": "9d867484",
        "outputId": "f5abe8cf-642f-48e1-b733-31580a03dce9"
      },
      "outputs": [
        {
          "output_type": "stream",
          "name": "stdout",
          "text": [
            "Looking in indexes: https://pypi.org/simple, https://us-python.pkg.dev/colab-wheels/public/simple/\n",
            "Collecting pyspark\n",
            "  Downloading pyspark-3.3.2.tar.gz (281.4 MB)\n",
            "\u001b[2K     \u001b[90m━━━━━━━━━━━━━━━━━━━━━━━━━━━━━━━━━━━━━━━\u001b[0m \u001b[32m281.4/281.4 MB\u001b[0m \u001b[31m4.1 MB/s\u001b[0m eta \u001b[36m0:00:00\u001b[0m\n",
            "\u001b[?25h  Preparing metadata (setup.py) ... \u001b[?25l\u001b[?25hdone\n",
            "Collecting py4j\n",
            "  Downloading py4j-0.10.9.7-py2.py3-none-any.whl (200 kB)\n",
            "\u001b[2K     \u001b[90m━━━━━━━━━━━━━━━━━━━━━━━━━━━━━━━━━━━━━━\u001b[0m \u001b[32m200.5/200.5 KB\u001b[0m \u001b[31m17.2 MB/s\u001b[0m eta \u001b[36m0:00:00\u001b[0m\n",
            "\u001b[?25h  Downloading py4j-0.10.9.5-py2.py3-none-any.whl (199 kB)\n",
            "\u001b[2K     \u001b[90m━━━━━━━━━━━━━━━━━━━━━━━━━━━━━━━━━━━━━━\u001b[0m \u001b[32m199.7/199.7 KB\u001b[0m \u001b[31m19.9 MB/s\u001b[0m eta \u001b[36m0:00:00\u001b[0m\n",
            "\u001b[?25hBuilding wheels for collected packages: pyspark\n",
            "  Building wheel for pyspark (setup.py) ... \u001b[?25l\u001b[?25hdone\n",
            "  Created wheel for pyspark: filename=pyspark-3.3.2-py2.py3-none-any.whl size=281824025 sha256=95076101fc307c89b51e94db0f38f52c30af273325805d0f43c4fab36969eea3\n",
            "  Stored in directory: /root/.cache/pip/wheels/b1/59/a0/a1a0624b5e865fd389919c1a10f53aec9b12195d6747710baf\n",
            "Successfully built pyspark\n",
            "Installing collected packages: py4j, pyspark\n",
            "Successfully installed py4j-0.10.9.5 pyspark-3.3.2\n"
          ]
        }
      ],
      "source": [
        "!pip install pyspark py4j"
      ],
      "id": "9d867484"
    },
    {
      "cell_type": "code",
      "execution_count": 2,
      "metadata": {
        "id": "gxQ9i_gFvNb4"
      },
      "outputs": [],
      "source": [
        "import pyspark\n",
        "from pyspark.sql import SparkSession"
      ],
      "id": "gxQ9i_gFvNb4"
    },
    {
      "cell_type": "code",
      "execution_count": 3,
      "metadata": {
        "id": "18cf8dbd"
      },
      "outputs": [],
      "source": [
        "spark = SparkSession.builder.master(\"local[*]\").appName(\"Datamanipulation\").getOrCreate()"
      ],
      "id": "18cf8dbd"
    },
    {
      "cell_type": "code",
      "execution_count": 4,
      "metadata": {
        "colab": {
          "base_uri": "https://localhost:8080/",
          "height": 219
        },
        "id": "9e64796c",
        "outputId": "d827ed08-f53f-48e9-dc0d-7b284981ba96"
      },
      "outputs": [
        {
          "output_type": "execute_result",
          "data": {
            "text/plain": [
              "<pyspark.sql.session.SparkSession at 0x7f3d3fa2e370>"
            ],
            "text/html": [
              "\n",
              "            <div>\n",
              "                <p><b>SparkSession - in-memory</b></p>\n",
              "                \n",
              "        <div>\n",
              "            <p><b>SparkContext</b></p>\n",
              "\n",
              "            <p><a href=\"http://7b3ce7acae11:4040\">Spark UI</a></p>\n",
              "\n",
              "            <dl>\n",
              "              <dt>Version</dt>\n",
              "                <dd><code>v3.3.2</code></dd>\n",
              "              <dt>Master</dt>\n",
              "                <dd><code>local[*]</code></dd>\n",
              "              <dt>AppName</dt>\n",
              "                <dd><code>Datamanipulation</code></dd>\n",
              "            </dl>\n",
              "        </div>\n",
              "        \n",
              "            </div>\n",
              "        "
            ]
          },
          "metadata": {},
          "execution_count": 4
        }
      ],
      "source": [
        "spark"
      ],
      "id": "9e64796c"
    },
    {
      "cell_type": "code",
      "execution_count": 5,
      "metadata": {
        "colab": {
          "base_uri": "https://localhost:8080/"
        },
        "id": "Fo3t5_Grw3Bf",
        "outputId": "7e8638a4-50b1-40d6-b568-6fcd8791b2b1"
      },
      "outputs": [
        {
          "output_type": "stream",
          "name": "stdout",
          "text": [
            "Mounted at /content/drive\n"
          ]
        }
      ],
      "source": [
        "from google.colab import drive\n",
        "drive.mount('/content/drive')"
      ],
      "id": "Fo3t5_Grw3Bf"
    },
    {
      "cell_type": "code",
      "execution_count": 6,
      "metadata": {
        "id": "2ChyHfN5EV2X"
      },
      "outputs": [],
      "source": [
        "import pandas as pd"
      ],
      "id": "2ChyHfN5EV2X"
    },
    {
      "cell_type": "code",
      "execution_count": 7,
      "metadata": {
        "id": "1cb29770"
      },
      "outputs": [],
      "source": [
        "# read our data - lives in a csv file\n",
        "\n",
        "#df = spark.read.option(\"header\",\"true\").csv(\"/content/drive/MyDrive/Sample - EU Superstore.csv\")\n",
        "df = spark.read.csv(\"/content/drive/MyDrive/Sample - EU Superstore.csv\", header=True, inferSchema=True)"
      ],
      "id": "1cb29770"
    },
    {
      "cell_type": "code",
      "source": [
        "df.show(20)"
      ],
      "metadata": {
        "colab": {
          "base_uri": "https://localhost:8080/"
        },
        "id": "1JufkaR7pXv5",
        "outputId": "6577b24a-b344-4149-aae7-0a5dd5e9c6be"
      },
      "id": "1JufkaR7pXv5",
      "execution_count": 8,
      "outputs": [
        {
          "output_type": "stream",
          "name": "stdout",
          "text": [
            "+------+---------------+----------+----------+--------------+-----------+----------------+-----------+-------------+--------------------+--------------+-------+---------------+---------------+------------+--------------------+--------+--------+--------+-------+\n",
            "|Row ID|       Order ID|Order Date| Ship Date|     Ship Mode|Customer ID|   Customer Name|    Segment|         City|               State|       Country| Region|     Product ID|       Category|Sub-Category|        Product Name|   Sales|Quantity|Discount| Profit|\n",
            "+------+---------------+----------+----------+--------------+-----------+----------------+-----------+-------------+--------------------+--------------+-------+---------------+---------------+------------+--------------------+--------+--------+--------+-------+\n",
            "|     1|ES-2017-1311038|07/02/2017|11/02/2017|Standard Class|   AS-10045|  Aaron Smayling|  Corporate|        Leeds|             England|United Kingdom|  North|OFF-ST-10000988|Office Supplies|     Storage|Fellowes Folders,...|    79.2|       3|     0.0|   39.6|\n",
            "|     2|ES-2017-1311038|07/02/2017|11/02/2017|Standard Class|   AS-10045|  Aaron Smayling|  Corporate|        Leeds|             England|United Kingdom|  North|TEC-AC-10004144|     Technology| Accessories|SanDisk Numeric K...|  388.92|       7|     0.0|    0.0|\n",
            "|     3|ES-2017-1311038|07/02/2017|11/02/2017|Standard Class|   AS-10045|  Aaron Smayling|  Corporate|        Leeds|             England|United Kingdom|  North|OFF-LA-10001915|Office Supplies|      Labels|Avery Legal Exhib...|   35.19|       3|     0.0|  16.11|\n",
            "|     4|ES-2017-1311038|07/02/2017|11/02/2017|Standard Class|   AS-10045|  Aaron Smayling|  Corporate|        Leeds|             England|United Kingdom|  North|OFF-ST-10004550|Office Supplies|     Storage|Fellowes Folders,...|   50.94|       2|     0.0|   13.2|\n",
            "|     5|ES-2017-1311038|07/02/2017|11/02/2017|Standard Class|   AS-10045|  Aaron Smayling|  Corporate|        Leeds|             England|United Kingdom|  North|TEC-AC-10004068|     Technology| Accessories|Memorex Memory Ca...|  307.44|       3|     0.0|  73.71|\n",
            "|     6|ES-2017-1311038|07/02/2017|11/02/2017|Standard Class|   AS-10045|  Aaron Smayling|  Corporate|        Leeds|             England|United Kingdom|  North|OFF-ST-10002271|Office Supplies|     Storage|Rogers Shelving, ...|   122.4|       2|     0.0|  37.92|\n",
            "|     7|ES-2017-1311038|07/02/2017|11/02/2017|Standard Class|   AS-10045|  Aaron Smayling|  Corporate|        Leeds|             England|United Kingdom|  North|TEC-PH-10003963|     Technology|      Phones|Apple Signal Boos...|  413.82|       3|     0.0|  20.61|\n",
            "|     8|ES-2015-5113958|02/08/2015|07/08/2015|  Second Class|   EB-13840|   Ellis Ballard|  Corporate|West Bromwich|             England|United Kingdom|  North|TEC-CO-10004325|     Technology|     Copiers|Canon Personal Co...|  428.22|       3|     0.0| 192.69|\n",
            "|     9|ES-2015-5113958|02/08/2015|07/08/2015|  Second Class|   EB-13840|   Ellis Ballard|  Corporate|West Bromwich|             England|United Kingdom|  North|OFF-AP-10004512|Office Supplies|  Appliances|   Hoover Stove, Red| 3979.29|       7|     0.0|1989.54|\n",
            "|    10|ES-2015-5113958|02/08/2015|07/08/2015|  Second Class|   EB-13840|   Ellis Ballard|  Corporate|West Bromwich|             England|United Kingdom|  North|OFF-FA-10002393|Office Supplies|   Fasteners|Accos Push Pins, ...|   43.56|       3|     0.0|   12.6|\n",
            "|    11|ES-2015-2510515|20/06/2015|20/06/2015|      Same Day|   LH-17155|Logan Haushalter|   Consumer|   Le Bouscat|Aquitaine-Limousi...|        France|Central|OFF-LA-10002805|Office Supplies|      Labels|Hon Color Coded L...|   25.26|       2|     0.0|   0.48|\n",
            "|    12|ES-2015-2510515|20/06/2015|20/06/2015|      Same Day|   LH-17155|Logan Haushalter|   Consumer|   Le Bouscat|Aquitaine-Limousi...|        France|Central|OFF-AP-10002330|Office Supplies|  Appliances|Hamilton Beach St...|2443.905|       5|     0.1|760.305|\n",
            "|    13|ES-2015-2510515|20/06/2015|20/06/2015|      Same Day|   LH-17155|Logan Haushalter|   Consumer|   Le Bouscat|Aquitaine-Limousi...|        France|Central|OFF-AR-10000505|Office Supplies|         Art|Binney & Smith Pe...|   12.21|       1|     0.0|    0.0|\n",
            "|    14|ES-2015-2510515|20/06/2015|20/06/2015|      Same Day|   LH-17155|Logan Haushalter|   Consumer|   Le Bouscat|Aquitaine-Limousi...|        France|Central|TEC-PH-10002898|     Technology|      Phones|Samsung Smart Pho...|2167.296|       4|    0.15|790.416|\n",
            "|    15|ES-2015-2510515|20/06/2015|20/06/2015|      Same Day|   LH-17155|Logan Haushalter|   Consumer|   Le Bouscat|Aquitaine-Limousi...|        France|Central|OFF-ST-10001413|Office Supplies|     Storage|Rogers Folders, Blue| 138.105|       5|     0.1|-12.345|\n",
            "|    16|ES-2016-4380115|16/02/2016|20/02/2016|Standard Class|   KC-16540| Kelly Collister|   Consumer|   Strasbourg|Alsace-Champagne-...|        France|Central|OFF-ST-10003931|Office Supplies|     Storage|Smead Trays, Wire...| 128.385|       3|     0.1|  4.275|\n",
            "|    17|ES-2016-4380115|16/02/2016|20/02/2016|Standard Class|   KC-16540| Kelly Collister|   Consumer|   Strasbourg|Alsace-Champagne-...|        France|Central|TEC-AC-10004269|     Technology| Accessories|Belkin Memory Car...|  690.12|       6|     0.0|    0.0|\n",
            "|    18|ES-2016-4380115|16/02/2016|20/02/2016|Standard Class|   KC-16540| Kelly Collister|   Consumer|   Strasbourg|Alsace-Champagne-...|        France|Central|OFF-LA-10001676|Office Supplies|      Labels|Hon Removable Lab...|    8.16|       1|     0.0|   1.14|\n",
            "|    19|ES-2017-2573330|03/11/2017|08/11/2017|Standard Class|   BF-11170|      Ben Ferrer|Home Office|         Unna|North Rhine-Westp...|       Germany|Central|TEC-MA-10000811|     Technology|    Machines|Okidata Phone, Du...|  347.88|       4|     0.0|  76.44|\n",
            "|    20|ES-2017-2573330|03/11/2017|08/11/2017|Standard Class|   BF-11170|      Ben Ferrer|Home Office|         Unna|North Rhine-Westp...|       Germany|Central|OFF-ST-10000648|Office Supplies|     Storage|Eldon File Cart, ...| 575.505|       5|     0.1| 12.705|\n",
            "+------+---------------+----------+----------+--------------+-----------+----------------+-----------+-------------+--------------------+--------------+-------+---------------+---------------+------------+--------------------+--------+--------+--------+-------+\n",
            "only showing top 20 rows\n",
            "\n"
          ]
        }
      ]
    },
    {
      "cell_type": "code",
      "execution_count": 9,
      "metadata": {
        "colab": {
          "base_uri": "https://localhost:8080/"
        },
        "id": "qeOj9fuVEOj8",
        "outputId": "f6fabb82-07ba-43e9-f40f-d257113721be"
      },
      "outputs": [
        {
          "output_type": "stream",
          "name": "stdout",
          "text": [
            "<class 'pandas.core.frame.DataFrame'>\n",
            "RangeIndex: 10000 entries, 0 to 9999\n",
            "Data columns (total 20 columns):\n",
            " #   Column         Non-Null Count  Dtype  \n",
            "---  ------         --------------  -----  \n",
            " 0   Row ID         10000 non-null  int32  \n",
            " 1   Order ID       10000 non-null  object \n",
            " 2   Order Date     10000 non-null  object \n",
            " 3   Ship Date      10000 non-null  object \n",
            " 4   Ship Mode      10000 non-null  object \n",
            " 5   Customer ID    10000 non-null  object \n",
            " 6   Customer Name  10000 non-null  object \n",
            " 7   Segment        10000 non-null  object \n",
            " 8   City           10000 non-null  object \n",
            " 9   State          10000 non-null  object \n",
            " 10  Country        10000 non-null  object \n",
            " 11  Region         10000 non-null  object \n",
            " 12  Product ID     10000 non-null  object \n",
            " 13  Category       10000 non-null  object \n",
            " 14  Sub-Category   10000 non-null  object \n",
            " 15  Product Name   10000 non-null  object \n",
            " 16  Sales          10000 non-null  float64\n",
            " 17  Quantity       10000 non-null  int32  \n",
            " 18  Discount       10000 non-null  float64\n",
            " 19  Profit         10000 non-null  float64\n",
            "dtypes: float64(3), int32(2), object(15)\n",
            "memory usage: 1.4+ MB\n"
          ]
        }
      ],
      "source": [
        "df.toPandas().info()"
      ],
      "id": "qeOj9fuVEOj8"
    },
    {
      "cell_type": "code",
      "source": [
        "df.printSchema()"
      ],
      "metadata": {
        "colab": {
          "base_uri": "https://localhost:8080/"
        },
        "id": "DrhnfP5amg4O",
        "outputId": "0ad61f6f-93f4-492f-e125-d1c48113fc56"
      },
      "id": "DrhnfP5amg4O",
      "execution_count": 10,
      "outputs": [
        {
          "output_type": "stream",
          "name": "stdout",
          "text": [
            "root\n",
            " |-- Row ID: integer (nullable = true)\n",
            " |-- Order ID: string (nullable = true)\n",
            " |-- Order Date: string (nullable = true)\n",
            " |-- Ship Date: string (nullable = true)\n",
            " |-- Ship Mode: string (nullable = true)\n",
            " |-- Customer ID: string (nullable = true)\n",
            " |-- Customer Name: string (nullable = true)\n",
            " |-- Segment: string (nullable = true)\n",
            " |-- City: string (nullable = true)\n",
            " |-- State: string (nullable = true)\n",
            " |-- Country: string (nullable = true)\n",
            " |-- Region: string (nullable = true)\n",
            " |-- Product ID: string (nullable = true)\n",
            " |-- Category: string (nullable = true)\n",
            " |-- Sub-Category: string (nullable = true)\n",
            " |-- Product Name: string (nullable = true)\n",
            " |-- Sales: double (nullable = true)\n",
            " |-- Quantity: integer (nullable = true)\n",
            " |-- Discount: double (nullable = true)\n",
            " |-- Profit: double (nullable = true)\n",
            "\n"
          ]
        }
      ]
    },
    {
      "cell_type": "code",
      "execution_count": 11,
      "metadata": {
        "colab": {
          "base_uri": "https://localhost:8080/"
        },
        "id": "6c800030",
        "outputId": "cb259b14-e795-45c6-a618-778b0a877ba2"
      },
      "outputs": [
        {
          "output_type": "execute_result",
          "data": {
            "text/plain": [
              "2827"
            ]
          },
          "metadata": {},
          "execution_count": 11
        }
      ],
      "source": [
        "# how many rows of the EU Superstore dataset have the country being France\n",
        "df.filter(df['Country'] == 'France').count()"
      ],
      "id": "6c800030"
    },
    {
      "cell_type": "code",
      "execution_count": 12,
      "metadata": {
        "colab": {
          "base_uri": "https://localhost:8080/"
        },
        "id": "648e5f8a",
        "outputId": "62c08870-953b-46b8-fe41-fb164659f617"
      },
      "outputs": [
        {
          "output_type": "execute_result",
          "data": {
            "text/plain": [
              "2329"
            ]
          },
          "metadata": {},
          "execution_count": 12
        }
      ],
      "source": [
        "# of those, how many are profitable?\n",
        "df.filter((df['Country'] == 'France') & \n",
        "          (df['Profit'] > 0)).count()\n"
      ],
      "id": "648e5f8a"
    },
    {
      "cell_type": "code",
      "source": [
        "# how any different discount brackets exist? what are they?\n",
        "discount_brackets = df.select(\"Discount\").distinct()\n",
        "discount_brackets.count()"
      ],
      "metadata": {
        "colab": {
          "base_uri": "https://localhost:8080/"
        },
        "id": "cHdq82eqnmjo",
        "outputId": "6848cd64-22bd-4705-acde-df3d58bcdf46"
      },
      "id": "cHdq82eqnmjo",
      "execution_count": 13,
      "outputs": [
        {
          "output_type": "execute_result",
          "data": {
            "text/plain": [
              "14"
            ]
          },
          "metadata": {},
          "execution_count": 13
        }
      ]
    },
    {
      "cell_type": "code",
      "execution_count": 14,
      "metadata": {
        "id": "ca611b93",
        "colab": {
          "base_uri": "https://localhost:8080/"
        },
        "outputId": "dbbc0e16-a48e-4d21-b038-3ffeace2b249"
      },
      "outputs": [
        {
          "output_type": "stream",
          "name": "stdout",
          "text": [
            "+--------+\n",
            "|Discount|\n",
            "+--------+\n",
            "|     0.0|\n",
            "|     0.2|\n",
            "|     0.7|\n",
            "|     0.1|\n",
            "|    0.45|\n",
            "|     0.6|\n",
            "|     0.8|\n",
            "|    0.35|\n",
            "|     0.5|\n",
            "|     0.4|\n",
            "|    0.85|\n",
            "|    0.15|\n",
            "|    0.65|\n",
            "|     0.3|\n",
            "+--------+\n",
            "\n"
          ]
        }
      ],
      "source": [
        "#what are they?\n",
        "discount_brackets.show()"
      ],
      "id": "ca611b93"
    },
    {
      "cell_type": "code",
      "execution_count": 15,
      "metadata": {
        "id": "b2e1f9f0",
        "colab": {
          "base_uri": "https://localhost:8080/"
        },
        "outputId": "422336fc-6844-43b6-b3ac-1e82774d3c88"
      },
      "outputs": [
        {
          "output_type": "stream",
          "name": "stdout",
          "text": [
            "+--------+-------------------+\n",
            "|Discount|        sum(Profit)|\n",
            "+--------+-------------------+\n",
            "|     0.0| 383806.53000000026|\n",
            "|     0.1|  126884.0309999999|\n",
            "|    0.15| 24677.563499999975|\n",
            "|     0.2| 2189.5499999999984|\n",
            "|     0.3| -758.4209999999999|\n",
            "|    0.35|          -9122.649|\n",
            "|     0.4|-21346.427999999996|\n",
            "|    0.45|         -1103.1915|\n",
            "|     0.5|         -96632.115|\n",
            "|     0.6|-20517.456000000002|\n",
            "|    0.65| -6221.965499999999|\n",
            "|     0.7|          -5496.765|\n",
            "|     0.8|           -460.284|\n",
            "|    0.85|          -3068.658|\n",
            "+--------+-------------------+\n",
            "\n"
          ]
        }
      ],
      "source": [
        "# let's see the totl profit by discount bracket, make sure they are ordered by \n",
        "df.groupBy(\"Discount\").agg({\"Profit\" : 'sum'}).orderBy(\"Discount\").show()"
      ],
      "id": "b2e1f9f0"
    },
    {
      "cell_type": "code",
      "execution_count": 16,
      "metadata": {
        "id": "d1d76050",
        "colab": {
          "base_uri": "https://localhost:8080/"
        },
        "outputId": "97e7e74f-667f-4f29-a90d-ed374d13ec6d"
      },
      "outputs": [
        {
          "output_type": "stream",
          "name": "stdout",
          "text": [
            "+--------+-------------------+\n",
            "|Discount|       total_profit|\n",
            "+--------+-------------------+\n",
            "|     0.3| -758.4209999999999|\n",
            "|    0.35|          -9122.649|\n",
            "|     0.4|-21346.427999999996|\n",
            "|    0.45|         -1103.1915|\n",
            "|     0.5|         -96632.115|\n",
            "|     0.6|-20517.456000000002|\n",
            "|    0.65| -6221.965499999999|\n",
            "|     0.7|          -5496.765|\n",
            "|     0.8|           -460.284|\n",
            "|    0.85|          -3068.658|\n",
            "+--------+-------------------+\n",
            "\n"
          ]
        }
      ],
      "source": [
        "# what is the value after which we should stop offering discount?\n",
        "total_profit_by_discount = df.groupBy(\"Discount\").agg({\"Profit\" : 'sum'}).withColumnRenamed(\"sum(Profit)\", \"total_profit\")\n",
        "total_profit_by_discount.filter(total_profit_by_discount.total_profit <= 0).orderBy(\"Discount\").show()"
      ],
      "id": "d1d76050"
    },
    {
      "cell_type": "markdown",
      "source": [
        "We should stop offering more than 20 percent discount or 0.2 because after that we start to run into losses."
      ],
      "metadata": {
        "id": "83pqrzp9vgVU"
      },
      "id": "83pqrzp9vgVU"
    },
    {
      "cell_type": "code",
      "execution_count": 17,
      "metadata": {
        "id": "aae94ee1",
        "colab": {
          "base_uri": "https://localhost:8080/"
        },
        "outputId": "ea741b4f-6057-41f9-c219-2108d3bf05d4"
      },
      "outputs": [
        {
          "output_type": "stream",
          "name": "stdout",
          "text": [
            "+-----------------+------------------+\n",
            "|    Customer Name|       sum(Profit)|\n",
            "+-----------------+------------------+\n",
            "|     Susan Pistek| 4974.512999999999|\n",
            "|    Patrick Jones|3986.0039999999995|\n",
            "|Patrick O'Donnell|          3778.197|\n",
            "|    Ellis Ballard|           3459.66|\n",
            "|  Mike Gockenbach|3144.4439999999995|\n",
            "+-----------------+------------------+\n",
            "\n"
          ]
        }
      ],
      "source": [
        "# who are the top 5 most profitable customers\n",
        "df.groupBy(\"Customer Name\").agg({\"Profit\" : 'sum'}).orderBy(\"sum(Profit)\", ascending = False).limit(5).show()\n"
      ],
      "id": "aae94ee1"
    },
    {
      "cell_type": "code",
      "execution_count": 18,
      "metadata": {
        "id": "277c465a",
        "colab": {
          "base_uri": "https://localhost:8080/"
        },
        "outputId": "bfa85a48-621e-4140-a9be-a920ccfc3930"
      },
      "outputs": [
        {
          "output_type": "stream",
          "name": "stdout",
          "text": [
            "+------+---------------+----------+----------+--------------+-----------+-----------------+---------+-------------+--------------------+--------------+-------+---------------+---------------+------------+--------------------+-------+--------+--------+-------+\n",
            "|Row ID|       Order ID|Order Date| Ship Date|     Ship Mode|Customer ID|    Customer Name|  Segment|         City|               State|       Country| Region|     Product ID|       Category|Sub-Category|        Product Name|  Sales|Quantity|Discount| Profit|\n",
            "+------+---------------+----------+----------+--------------+-----------+-----------------+---------+-------------+--------------------+--------------+-------+---------------+---------------+------------+--------------------+-------+--------+--------+-------+\n",
            "|     8|ES-2015-5113958|02/08/2015|07/08/2015|  Second Class|   EB-13840|    Ellis Ballard|Corporate|West Bromwich|             England|United Kingdom|  North|TEC-CO-10004325|     Technology|     Copiers|Canon Personal Co...| 428.22|       3|     0.0| 192.69|\n",
            "|     9|ES-2015-5113958|02/08/2015|07/08/2015|  Second Class|   EB-13840|    Ellis Ballard|Corporate|West Bromwich|             England|United Kingdom|  North|OFF-AP-10004512|Office Supplies|  Appliances|   Hoover Stove, Red|3979.29|       7|     0.0|1989.54|\n",
            "|    10|ES-2015-5113958|02/08/2015|07/08/2015|  Second Class|   EB-13840|    Ellis Ballard|Corporate|West Bromwich|             England|United Kingdom|  North|OFF-FA-10002393|Office Supplies|   Fasteners|Accos Push Pins, ...|  43.56|       3|     0.0|   12.6|\n",
            "|    27|ES-2017-2557751|28/02/2017|04/03/2017|Standard Class|   SP-20920|     Susan Pistek| Consumer|    Heilbronn|   Baden-Württemberg|       Germany|Central|TEC-MA-10000946|     Technology|    Machines|Panasonic Calcula...| 332.01|       7|     0.0| 112.77|\n",
            "|    28|ES-2017-2557751|28/02/2017|04/03/2017|Standard Class|   SP-20920|     Susan Pistek| Consumer|    Heilbronn|   Baden-Württemberg|       Germany|Central|OFF-ST-10004409|Office Supplies|     Storage|Rogers Box, Indus...|110.025|       5|     0.1|-12.225|\n",
            "|    29|ES-2017-2557751|28/02/2017|04/03/2017|Standard Class|   SP-20920|     Susan Pistek| Consumer|    Heilbronn|   Baden-Württemberg|       Germany|Central|OFF-FA-10000146|Office Supplies|   Fasteners|Stockwell Rubber ...|  41.94|       3|     0.0|   7.92|\n",
            "|   182|ES-2016-1788644|27/05/2016|01/06/2016|Standard Class|   EB-13840|    Ellis Ballard|Corporate| Grevenbroich|North Rhine-Westp...|       Germany|Central|OFF-AR-10003377|Office Supplies|         Art|Boston Pencil Sha...| 181.26|       6|     0.0|  28.98|\n",
            "|   183|ES-2016-1788644|27/05/2016|01/06/2016|Standard Class|   EB-13840|    Ellis Ballard|Corporate| Grevenbroich|North Rhine-Westp...|       Germany|Central|TEC-PH-10004263|     Technology|      Phones|Cisco Signal Boos...|1062.81|       7|     0.0| 265.65|\n",
            "|   184|ES-2016-1788644|27/05/2016|01/06/2016|Standard Class|   EB-13840|    Ellis Ballard|Corporate| Grevenbroich|North Rhine-Westp...|       Germany|Central|OFF-ST-10004577|Office Supplies|     Storage|Tenex Shelving, W...| 96.714|       2|     0.1|  2.094|\n",
            "|   232|ES-2017-1956763|29/12/2017|04/01/2018|Standard Class|   EB-13840|    Ellis Ballard|Corporate|       London|             England|United Kingdom|  North|OFF-EN-10003360|Office Supplies|   Envelopes|Kraft Mailers, wi...|148.284|       4|     0.1| 23.004|\n",
            "|   415|ES-2017-2591069|29/10/2017|02/11/2017|Standard Class|   PO-18865|Patrick O'Donnell| Consumer|        Nancy|Alsace-Champagne-...|        France|Central|OFF-AR-10004303|Office Supplies|         Art|Stanley Markers, ...|   88.8|       4|     0.0|   7.92|\n",
            "|   416|ES-2017-2591069|29/10/2017|02/11/2017|Standard Class|   PO-18865|Patrick O'Donnell| Consumer|        Nancy|Alsace-Champagne-...|        France|Central|TEC-CO-10004005|     Technology|     Copiers|Sharp Copy Machin...|1015.92|       5|    0.15| -24.03|\n",
            "|   689|ES-2016-4398455|09/09/2016|14/09/2016|Standard Class|   PO-18865|Patrick O'Donnell| Consumer|      Catania|              Sicily|         Italy|  South|OFF-AR-10004825|Office Supplies|         Art|BIC Canvas, Fluor...| 109.92|       2|     0.0|  38.46|\n",
            "|   690|ES-2016-4398455|09/09/2016|14/09/2016|Standard Class|   PO-18865|Patrick O'Donnell| Consumer|      Catania|              Sicily|         Italy|  South|OFF-AP-10000864|Office Supplies|  Appliances|Hamilton Beach Re...|1998.24|       4|     0.0| 359.64|\n",
            "|   727|ES-2016-4933394|28/11/2016|03/12/2016|Standard Class|   PO-18865|Patrick O'Donnell| Consumer|         Osny|       Ile-de-France|        France|Central|OFF-LA-10003290|Office Supplies|      Labels|Hon Round Labels,...|   4.56|       1|     0.0|   1.62|\n",
            "|  1090|ES-2015-1059749|14/02/2015|17/02/2015|   First Class|   SP-20920|     Susan Pistek| Consumer|      Quimper|            Brittany|        France|Central|OFF-BI-10001544|Office Supplies|     Binders|Wilson Jones Hole...|   7.98|       2|     0.0|   0.84|\n",
            "|  1091|ES-2015-1059749|14/02/2015|17/02/2015|   First Class|   SP-20920|     Susan Pistek| Consumer|      Quimper|            Brittany|        France|Central|FUR-CH-10004969|      Furniture|      Chairs|Office Star Bag C...| 99.792|       2|     0.1| 11.052|\n",
            "|  1092|ES-2015-1059749|14/02/2015|17/02/2015|   First Class|   SP-20920|     Susan Pistek| Consumer|      Quimper|            Brittany|        France|Central|OFF-AR-10003247|Office Supplies|         Art|Boston Highlighte...|   88.2|       4|     0.0|  15.84|\n",
            "|  1093|ES-2015-1059749|14/02/2015|17/02/2015|   First Class|   SP-20920|     Susan Pistek| Consumer|      Quimper|            Brittany|        France|Central|OFF-BI-10004801|Office Supplies|     Binders|Acco Binding Mach...| 105.18|       2|     0.0|   25.2|\n",
            "|  1094|ES-2015-1059749|14/02/2015|17/02/2015|   First Class|   SP-20920|     Susan Pistek| Consumer|      Quimper|            Brittany|        France|Central|OFF-ST-10003414|Office Supplies|     Storage|Tenex Shelving, I...| 248.13|       5|     0.1|  24.78|\n",
            "+------+---------------+----------+----------+--------------+-----------+-----------------+---------+-------------+--------------------+--------------+-------+---------------+---------------+------------+--------------------+-------+--------+--------+-------+\n",
            "only showing top 20 rows\n",
            "\n"
          ]
        }
      ],
      "source": [
        "# get all the rows belonging to those 5 customer names: hint, you may need the collect method - how many rows are they?\n",
        "top_5_profitable = df.groupBy(\"Customer Name\").agg({\"Profit\" : 'sum'}).orderBy(\"sum(Profit)\", ascending = False).limit(5)\n",
        "top_profitable_customers = top_5_profitable.collect()\n",
        "top_profitable_customers_names = [row[0] for row in top_profitable_customers]\n",
        "top_profitable_customers_rows = df.filter(df['Customer Name'].isin(top_profitable_customers_names))\n",
        "top_profitable_customers_rows.show()"
      ],
      "id": "277c465a"
    },
    {
      "cell_type": "code",
      "source": [
        "#how many rows are they?\n",
        "top_profitable_customers_rows.count()"
      ],
      "metadata": {
        "colab": {
          "base_uri": "https://localhost:8080/"
        },
        "id": "tjZbIZmjN9HR",
        "outputId": "997d38ee-816f-4be8-941d-c56f480001e5"
      },
      "id": "tjZbIZmjN9HR",
      "execution_count": 19,
      "outputs": [
        {
          "output_type": "execute_result",
          "data": {
            "text/plain": [
              "76"
            ]
          },
          "metadata": {},
          "execution_count": 19
        }
      ]
    },
    {
      "cell_type": "code",
      "execution_count": 20,
      "metadata": {
        "id": "8d0fc034"
      },
      "outputs": [],
      "source": [
        "# create a new column which is the value of the sale were there not discount applied. Hint: orginal = sales/(1-d)"
      ],
      "id": "8d0fc034"
    },
    {
      "cell_type": "code",
      "execution_count": 21,
      "metadata": {
        "id": "5f9d09ac",
        "colab": {
          "base_uri": "https://localhost:8080/"
        },
        "outputId": "71c7c962-0a72-43d3-c710-9877fa35fbed"
      },
      "outputs": [
        {
          "output_type": "stream",
          "name": "stdout",
          "text": [
            "+------+---------------+----------+----------+--------------+-----------+----------------+-----------+-------------+--------------------+--------------+-------+---------------+---------------+------------+--------------------+--------+--------+--------+-------+-----------------+\n",
            "|Row ID|       Order ID|Order Date| Ship Date|     Ship Mode|Customer ID|   Customer Name|    Segment|         City|               State|       Country| Region|     Product ID|       Category|Sub-Category|        Product Name|   Sales|Quantity|Discount| Profit|No_discount_sales|\n",
            "+------+---------------+----------+----------+--------------+-----------+----------------+-----------+-------------+--------------------+--------------+-------+---------------+---------------+------------+--------------------+--------+--------+--------+-------+-----------------+\n",
            "|     1|ES-2017-1311038|07/02/2017|11/02/2017|Standard Class|   AS-10045|  Aaron Smayling|  Corporate|        Leeds|             England|United Kingdom|  North|OFF-ST-10000988|Office Supplies|     Storage|Fellowes Folders,...|    79.2|       3|     0.0|   39.6|             79.2|\n",
            "|     2|ES-2017-1311038|07/02/2017|11/02/2017|Standard Class|   AS-10045|  Aaron Smayling|  Corporate|        Leeds|             England|United Kingdom|  North|TEC-AC-10004144|     Technology| Accessories|SanDisk Numeric K...|  388.92|       7|     0.0|    0.0|           388.92|\n",
            "|     3|ES-2017-1311038|07/02/2017|11/02/2017|Standard Class|   AS-10045|  Aaron Smayling|  Corporate|        Leeds|             England|United Kingdom|  North|OFF-LA-10001915|Office Supplies|      Labels|Avery Legal Exhib...|   35.19|       3|     0.0|  16.11|            35.19|\n",
            "|     4|ES-2017-1311038|07/02/2017|11/02/2017|Standard Class|   AS-10045|  Aaron Smayling|  Corporate|        Leeds|             England|United Kingdom|  North|OFF-ST-10004550|Office Supplies|     Storage|Fellowes Folders,...|   50.94|       2|     0.0|   13.2|            50.94|\n",
            "|     5|ES-2017-1311038|07/02/2017|11/02/2017|Standard Class|   AS-10045|  Aaron Smayling|  Corporate|        Leeds|             England|United Kingdom|  North|TEC-AC-10004068|     Technology| Accessories|Memorex Memory Ca...|  307.44|       3|     0.0|  73.71|           307.44|\n",
            "|     6|ES-2017-1311038|07/02/2017|11/02/2017|Standard Class|   AS-10045|  Aaron Smayling|  Corporate|        Leeds|             England|United Kingdom|  North|OFF-ST-10002271|Office Supplies|     Storage|Rogers Shelving, ...|   122.4|       2|     0.0|  37.92|            122.4|\n",
            "|     7|ES-2017-1311038|07/02/2017|11/02/2017|Standard Class|   AS-10045|  Aaron Smayling|  Corporate|        Leeds|             England|United Kingdom|  North|TEC-PH-10003963|     Technology|      Phones|Apple Signal Boos...|  413.82|       3|     0.0|  20.61|           413.82|\n",
            "|     8|ES-2015-5113958|02/08/2015|07/08/2015|  Second Class|   EB-13840|   Ellis Ballard|  Corporate|West Bromwich|             England|United Kingdom|  North|TEC-CO-10004325|     Technology|     Copiers|Canon Personal Co...|  428.22|       3|     0.0| 192.69|           428.22|\n",
            "|     9|ES-2015-5113958|02/08/2015|07/08/2015|  Second Class|   EB-13840|   Ellis Ballard|  Corporate|West Bromwich|             England|United Kingdom|  North|OFF-AP-10004512|Office Supplies|  Appliances|   Hoover Stove, Red| 3979.29|       7|     0.0|1989.54|          3979.29|\n",
            "|    10|ES-2015-5113958|02/08/2015|07/08/2015|  Second Class|   EB-13840|   Ellis Ballard|  Corporate|West Bromwich|             England|United Kingdom|  North|OFF-FA-10002393|Office Supplies|   Fasteners|Accos Push Pins, ...|   43.56|       3|     0.0|   12.6|            43.56|\n",
            "|    11|ES-2015-2510515|20/06/2015|20/06/2015|      Same Day|   LH-17155|Logan Haushalter|   Consumer|   Le Bouscat|Aquitaine-Limousi...|        France|Central|OFF-LA-10002805|Office Supplies|      Labels|Hon Color Coded L...|   25.26|       2|     0.0|   0.48|            25.26|\n",
            "|    12|ES-2015-2510515|20/06/2015|20/06/2015|      Same Day|   LH-17155|Logan Haushalter|   Consumer|   Le Bouscat|Aquitaine-Limousi...|        France|Central|OFF-AP-10002330|Office Supplies|  Appliances|Hamilton Beach St...|2443.905|       5|     0.1|760.305|          2715.45|\n",
            "|    13|ES-2015-2510515|20/06/2015|20/06/2015|      Same Day|   LH-17155|Logan Haushalter|   Consumer|   Le Bouscat|Aquitaine-Limousi...|        France|Central|OFF-AR-10000505|Office Supplies|         Art|Binney & Smith Pe...|   12.21|       1|     0.0|    0.0|            12.21|\n",
            "|    14|ES-2015-2510515|20/06/2015|20/06/2015|      Same Day|   LH-17155|Logan Haushalter|   Consumer|   Le Bouscat|Aquitaine-Limousi...|        France|Central|TEC-PH-10002898|     Technology|      Phones|Samsung Smart Pho...|2167.296|       4|    0.15|790.416|          2549.76|\n",
            "|    15|ES-2015-2510515|20/06/2015|20/06/2015|      Same Day|   LH-17155|Logan Haushalter|   Consumer|   Le Bouscat|Aquitaine-Limousi...|        France|Central|OFF-ST-10001413|Office Supplies|     Storage|Rogers Folders, Blue| 138.105|       5|     0.1|-12.345|           153.45|\n",
            "|    16|ES-2016-4380115|16/02/2016|20/02/2016|Standard Class|   KC-16540| Kelly Collister|   Consumer|   Strasbourg|Alsace-Champagne-...|        France|Central|OFF-ST-10003931|Office Supplies|     Storage|Smead Trays, Wire...| 128.385|       3|     0.1|  4.275|           142.65|\n",
            "|    17|ES-2016-4380115|16/02/2016|20/02/2016|Standard Class|   KC-16540| Kelly Collister|   Consumer|   Strasbourg|Alsace-Champagne-...|        France|Central|TEC-AC-10004269|     Technology| Accessories|Belkin Memory Car...|  690.12|       6|     0.0|    0.0|           690.12|\n",
            "|    18|ES-2016-4380115|16/02/2016|20/02/2016|Standard Class|   KC-16540| Kelly Collister|   Consumer|   Strasbourg|Alsace-Champagne-...|        France|Central|OFF-LA-10001676|Office Supplies|      Labels|Hon Removable Lab...|    8.16|       1|     0.0|   1.14|             8.16|\n",
            "|    19|ES-2017-2573330|03/11/2017|08/11/2017|Standard Class|   BF-11170|      Ben Ferrer|Home Office|         Unna|North Rhine-Westp...|       Germany|Central|TEC-MA-10000811|     Technology|    Machines|Okidata Phone, Du...|  347.88|       4|     0.0|  76.44|           347.88|\n",
            "|    20|ES-2017-2573330|03/11/2017|08/11/2017|Standard Class|   BF-11170|      Ben Ferrer|Home Office|         Unna|North Rhine-Westp...|       Germany|Central|OFF-ST-10000648|Office Supplies|     Storage|Eldon File Cart, ...| 575.505|       5|     0.1| 12.705|           639.45|\n",
            "+------+---------------+----------+----------+--------------+-----------+----------------+-----------+-------------+--------------------+--------------+-------+---------------+---------------+------------+--------------------+--------+--------+--------+-------+-----------------+\n",
            "only showing top 20 rows\n",
            "\n"
          ]
        }
      ],
      "source": [
        "import pyspark.sql.functions as func\n",
        "df = df.withColumn('No_discount_sales', func.round(df['Sales']/(1-df['Discount']),2))\n",
        "df.show()"
      ],
      "id": "5f9d09ac"
    },
    {
      "cell_type": "code",
      "execution_count": 22,
      "metadata": {
        "id": "ba0f9aa9",
        "colab": {
          "base_uri": "https://localhost:8080/"
        },
        "outputId": "079dd80f-c0d0-4433-b34c-873d9fa5e4f7"
      },
      "outputs": [
        {
          "output_type": "stream",
          "name": "stdout",
          "text": [
            "+-----------------+--------+-------------------------+\n",
            "|No_discount_sales|   Sales|sales_discount_difference|\n",
            "+-----------------+--------+-------------------------+\n",
            "|             79.2|    79.2|                      0.0|\n",
            "|           388.92|  388.92|                      0.0|\n",
            "|            35.19|   35.19|                      0.0|\n",
            "|            50.94|   50.94|                      0.0|\n",
            "|           307.44|  307.44|                      0.0|\n",
            "|            122.4|   122.4|                      0.0|\n",
            "|           413.82|  413.82|                      0.0|\n",
            "|           428.22|  428.22|                      0.0|\n",
            "|          3979.29| 3979.29|                      0.0|\n",
            "|            43.56|   43.56|                      0.0|\n",
            "|            25.26|   25.26|                      0.0|\n",
            "|          2715.45|2443.905|                    272.0|\n",
            "|            12.21|   12.21|                      0.0|\n",
            "|          2549.76|2167.296|                    382.0|\n",
            "|           153.45| 138.105|                     15.0|\n",
            "|           142.65| 128.385|                     14.0|\n",
            "|           690.12|  690.12|                      0.0|\n",
            "|             8.16|    8.16|                      0.0|\n",
            "|           347.88|  347.88|                      0.0|\n",
            "|           639.45| 575.505|                     64.0|\n",
            "+-----------------+--------+-------------------------+\n",
            "only showing top 20 rows\n",
            "\n"
          ]
        }
      ],
      "source": [
        "# calculate the difference between sales and discount value\n",
        "df.withColumn('sales_discount_difference' , func.round(df[\"No_discount_sales\"] - df[\"Sales\"])).select('No_discount_sales', 'Sales', 'sales_discount_difference').show()"
      ],
      "id": "ba0f9aa9"
    },
    {
      "cell_type": "code",
      "execution_count": 23,
      "metadata": {
        "id": "8e810f4f",
        "colab": {
          "base_uri": "https://localhost:8080/"
        },
        "outputId": "cd967aab-2e4c-48ce-8235-a87fb2c33b34"
      },
      "outputs": [
        {
          "output_type": "stream",
          "name": "stdout",
          "text": [
            "+--------+------------------------------+\n",
            "|Discount|sum(sales_discount_difference)|\n",
            "+--------+------------------------------+\n",
            "|     0.0|                           0.0|\n",
            "|     0.1|                       84707.0|\n",
            "|    0.15|                       45236.0|\n",
            "|     0.2|                       10657.0|\n",
            "|     0.3|                        2630.0|\n",
            "|    0.35|                       29166.0|\n",
            "|     0.4|                       46733.0|\n",
            "|    0.45|                        2083.0|\n",
            "|     0.5|                      183747.0|\n",
            "|     0.6|                       39648.0|\n",
            "|    0.65|                       12218.0|\n",
            "|     0.7|                        8534.0|\n",
            "|     0.8|                         636.0|\n",
            "|    0.85|                        4516.0|\n",
            "+--------+------------------------------+\n",
            "\n"
          ]
        }
      ],
      "source": [
        "# how much money did we not gain due to the discounts - per discount bracket?\n",
        "df = df.withColumn('sales_discount_difference' , func.round(df[\"No_discount_sales\"] - df[\"Sales\"]))\n",
        "df.groupBy(\"Discount\").sum(\"sales_discount_difference\").orderBy(\"Discount\").show()"
      ],
      "id": "8e810f4f"
    },
    {
      "cell_type": "code",
      "execution_count": 24,
      "metadata": {
        "id": "76aca9f2",
        "colab": {
          "base_uri": "https://localhost:8080/"
        },
        "outputId": "b42ed8ff-51ac-4e45-8029-596635cfb529"
      },
      "outputs": [
        {
          "output_type": "execute_result",
          "data": {
            "text/plain": [
              "0.5"
            ]
          },
          "metadata": {},
          "execution_count": 24
        }
      ],
      "source": [
        "# find the discount bracket which made us not gain the most (dynamically)\n",
        "sum_loss = df.groupBy(\"Discount\").sum(\"sales_discount_difference\").orderBy(\"Discount\").orderBy(\"sum(sales_discount_difference)\", ascending = False)\n",
        "most_loss = sum_loss.collect()[0][0]\n",
        "most_loss"
      ],
      "id": "76aca9f2"
    },
    {
      "cell_type": "code",
      "execution_count": 25,
      "metadata": {
        "id": "0aa9b685",
        "colab": {
          "base_uri": "https://localhost:8080/"
        },
        "outputId": "f1c6e0e5-f5eb-4b04-89c6-1719fcc076d9"
      },
      "outputs": [
        {
          "output_type": "stream",
          "name": "stdout",
          "text": [
            "+-----------------+\n",
            "| sum_profit_after|\n",
            "+-----------------+\n",
            "|469461.8565000003|\n",
            "+-----------------+\n",
            "\n"
          ]
        }
      ],
      "source": [
        "# what would have been the total profit if we removed all orders from that discount group? \n",
        "df_filtered = df.filter(df[\"Discount\"] != most_loss)\n",
        "total_profit = df_filtered.agg({\"Profit\" : \"sum\"}).withColumnRenamed(\"sum(Profit)\", \"sum_profit_after\")\n",
        "total_profit.show()"
      ],
      "id": "0aa9b685"
    },
    {
      "cell_type": "code",
      "execution_count": 26,
      "metadata": {
        "id": "fca95e60",
        "colab": {
          "base_uri": "https://localhost:8080/"
        },
        "outputId": "cffe7e9a-cb5a-47ce-d440-764842f8a8f1"
      },
      "outputs": [
        {
          "output_type": "stream",
          "name": "stdout",
          "text": [
            "+-----------------+-----------------+\n",
            "| sum_profit_after|sum_profit_before|\n",
            "+-----------------+-----------------+\n",
            "|469461.8565000003|372829.7415000005|\n",
            "+-----------------+-----------------+\n",
            "\n"
          ]
        }
      ],
      "source": [
        "#how much more (or less) profit is that?\n",
        "total_profit_before = df.agg({\"Profit\" : \"sum\"}).withColumnRenamed(\"sum(Profit)\", \"sum_profit_before\")\n",
        "joined_total_profit = total_profit.join(total_profit_before)\n",
        "joined_total_profit.show()"
      ],
      "id": "fca95e60"
    },
    {
      "cell_type": "code",
      "source": [
        "difference = total_profit[\"sum_profit_after\"] - total_profit_before[\"sum_profit_before\"]\n",
        "difference = joined_total_profit.withColumn(\"Difference\", (joined_total_profit[\"sum_profit_after\"] - joined_total_profit[\"sum_profit_before\"]))\n",
        "difference.show()"
      ],
      "metadata": {
        "colab": {
          "base_uri": "https://localhost:8080/"
        },
        "id": "YpcIZ1HsDRMF",
        "outputId": "1b83d990-f330-4bf0-bad5-c25aa69035f3"
      },
      "id": "YpcIZ1HsDRMF",
      "execution_count": 27,
      "outputs": [
        {
          "output_type": "stream",
          "name": "stdout",
          "text": [
            "+-----------------+-----------------+-----------------+\n",
            "| sum_profit_after|sum_profit_before|       Difference|\n",
            "+-----------------+-----------------+-----------------+\n",
            "|469461.8565000003|372829.7415000005|96632.11499999976|\n",
            "+-----------------+-----------------+-----------------+\n",
            "\n"
          ]
        }
      ]
    },
    {
      "cell_type": "code",
      "execution_count": 28,
      "metadata": {
        "id": "0fb49200"
      },
      "outputs": [],
      "source": [
        "# create a temporary table for our superstore table in sql\n",
        "df.createOrReplaceTempView(\"eu_df\")"
      ],
      "id": "0fb49200"
    },
    {
      "cell_type": "code",
      "execution_count": 29,
      "metadata": {
        "id": "a23e0bca",
        "colab": {
          "base_uri": "https://localhost:8080/"
        },
        "outputId": "39c62dc2-8649-4fd5-fa76-ae2f33bdc836"
      },
      "outputs": [
        {
          "output_type": "stream",
          "name": "stdout",
          "text": [
            "+--------+\n",
            "|count(1)|\n",
            "+--------+\n",
            "|   10000|\n",
            "+--------+\n",
            "\n"
          ]
        }
      ],
      "source": [
        "# use an SQL query to count the number of rows\n",
        "spark.sql(\"SELECT COUNT(*) FROM eu_df\").show()"
      ],
      "id": "a23e0bca"
    },
    {
      "cell_type": "code",
      "execution_count": 53,
      "metadata": {
        "id": "8e2cf9f2",
        "colab": {
          "base_uri": "https://localhost:8080/"
        },
        "outputId": "a067428f-695a-427c-861e-a08a34317203"
      },
      "outputs": [
        {
          "output_type": "stream",
          "name": "stdout",
          "text": [
            "+--------------+--------------------+\n",
            "|       Country|        Profit_ratio|\n",
            "+--------------+--------------------+\n",
            "|   Switzerland|  0.2909201193350232|\n",
            "|       Austria|  0.2641908775042505|\n",
            "|        Norway|  0.2517747548521659|\n",
            "|       Belgium| 0.23508766583987942|\n",
            "|United Kingdom| 0.21170103540397134|\n",
            "|         Spain| 0.18941580658358978|\n",
            "|       Finland| 0.18864296633316185|\n",
            "|       Germany| 0.17066792076621765|\n",
            "|        France| 0.12693568221933804|\n",
            "|         Italy| 0.06844355185424991|\n",
            "|       Ireland|-0.44426677493909256|\n",
            "|       Denmark| -0.4957190005664471|\n",
            "|   Netherlands| -0.5298342790541865|\n",
            "|        Sweden| -0.5745674280714466|\n",
            "|      Portugal| -0.5761662270806188|\n",
            "+--------------+--------------------+\n",
            "\n"
          ]
        }
      ],
      "source": [
        "# Use an SQL query to calculate the profit ratio for each country: hint, ratio is sum(profit)/sum(sales)\n",
        "spark.sql(\"SELECT Country, (SUM(Profit)/SUM(Sales)) AS Profit_ratio FROM eu_df GROUP BY Country ORDER BY Profit_ratio DESC\").show()"
      ],
      "id": "8e2cf9f2"
    },
    {
      "cell_type": "code",
      "execution_count": 57,
      "metadata": {
        "id": "f8cdd772",
        "colab": {
          "base_uri": "https://localhost:8080/"
        },
        "outputId": "10a1b682-96dc-4230-d53e-a0d9ab2e4961"
      },
      "outputs": [
        {
          "output_type": "stream",
          "name": "stdout",
          "text": [
            "+--------------+-------------------+--------------------+\n",
            "|       country|       total_profit|        Profit_ratio|\n",
            "+--------------+-------------------+--------------------+\n",
            "|United Kingdom| 111900.15000000001| 0.21170103540397134|\n",
            "|        France| 109029.00299999975| 0.12693568221933804|\n",
            "|       Germany| 107322.82049999991| 0.17066792076621765|\n",
            "|         Spain|  54390.11999999999| 0.18941580658358978|\n",
            "|       Austria|           21442.26|  0.2641908775042505|\n",
            "|         Italy| 19828.757999999965| 0.06844355185424991|\n",
            "|       Belgium|           11572.59| 0.23508766583987942|\n",
            "|   Switzerland|  7237.470000000001|  0.2909201193350232|\n",
            "|        Norway|            5167.77|  0.2517747548521659|\n",
            "|       Finland|            3905.73| 0.18864296633316185|\n",
            "|       Denmark|-4282.0470000000005| -0.4957190005664471|\n",
            "|       Ireland| -7392.381000000003|-0.44426677493909256|\n",
            "|      Portugal| -8703.059999999998| -0.5761662270806188|\n",
            "|        Sweden|-17519.366999999987| -0.5745674280714466|\n",
            "|   Netherlands| -41070.07499999996| -0.5298342790541865|\n",
            "+--------------+-------------------+--------------------+\n",
            "\n"
          ]
        }
      ],
      "source": [
        "profit_ratio_total_profit = spark.sql(\"SELECT country, SUM(profit) as total_profit, (SUM(Profit)/SUM(Sales)) AS Profit_ratio FROM eu_df GROUP BY country ORDER BY total_profit DESC\")\n",
        "profit_ratio_total_profit.show()\n"
      ],
      "id": "f8cdd772"
    },
    {
      "cell_type": "code",
      "source": [
        "# is the country with the largest profit ratio, the country with the largest profit?\n",
        "largest_profit_and_profit_ratio = spark.sql(\"\"\"SELECT country, SUM(profit) as total_profit, (SUM(profit)/SUM(sales)) AS profit_ratio \n",
        "                            FROM eu_df \n",
        "                            GROUP BY country \n",
        "                            HAVING SUM(profit) = (SELECT MAX(total_profit) FROM (SELECT country, SUM(profit) as total_profit FROM eu_df GROUP BY country)) \n",
        "                            AND (SUM(profit)/SUM(sales)) = (SELECT MAX(profit_ratio) FROM (SELECT country, (SUM(profit)/SUM(sales)) AS profit_ratio FROM eu_df GROUP BY country))\"\"\")\n",
        "\n",
        "largest_profit_and_profit_ratio.show()"
      ],
      "metadata": {
        "colab": {
          "base_uri": "https://localhost:8080/"
        },
        "id": "-TecfVXhF8-N",
        "outputId": "b09e7bf8-eeed-4a73-d3a7-121753451003"
      },
      "id": "-TecfVXhF8-N",
      "execution_count": 56,
      "outputs": [
        {
          "output_type": "stream",
          "name": "stdout",
          "text": [
            "+-------+------------+------------+\n",
            "|country|total_profit|profit_ratio|\n",
            "+-------+------------+------------+\n",
            "+-------+------------+------------+\n",
            "\n"
          ]
        }
      ]
    },
    {
      "cell_type": "markdown",
      "source": [
        "From the empty table returned it means that the country with the largest ratio is not the country with the largest profit.\n",
        "The country with the largest profit is the United Kingdom while the country with the largest profit ratio is Switzerland\n"
      ],
      "metadata": {
        "id": "D7BD_kZDpKE9"
      },
      "id": "D7BD_kZDpKE9"
    }
  ],
  "metadata": {
    "colab": {
      "provenance": []
    },
    "kernelspec": {
      "display_name": "Python 3 (ipykernel)",
      "language": "python",
      "name": "python3"
    },
    "language_info": {
      "codemirror_mode": {
        "name": "ipython",
        "version": 3
      },
      "file_extension": ".py",
      "mimetype": "text/x-python",
      "name": "python",
      "nbconvert_exporter": "python",
      "pygments_lexer": "ipython3",
      "version": "3.9.7"
    }
  },
  "nbformat": 4,
  "nbformat_minor": 5
}
